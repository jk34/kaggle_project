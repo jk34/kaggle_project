{
 "cells": [
  {
   "cell_type": "code",
   "execution_count": 1,
   "metadata": {},
   "outputs": [],
   "source": [
    "from exp.features import create_train_features\n",
    "from exp.run import run_experiment\n",
    "from exp.mappings import alg_map\n",
    "from exp.train import train_model\n",
    "import pandas as pd\n",
    "import json\n",
    "import numpy as np\n",
    "import os"
   ]
  },
  {
   "cell_type": "markdown",
   "metadata": {},
   "source": [
    "### Create Training Features"
   ]
  },
  {
   "cell_type": "code",
   "execution_count": 2,
   "metadata": {
    "scrolled": true
   },
   "outputs": [],
   "source": [
    "X_save = \"X_tr.csv\"\n",
    "y_save = \"y_tr.csv\"\n",
    "X_save_scaled = \"X_tr_scaled.csv\"\n",
    "scale_params_pickle = \"scale_params.pickle\"\n",
    "other_params_json = \"other.json\"\n",
    "tr_scaler = None\n",
    "classic_sta_lta5_mean_fill = None\n",
    "classic_sta_lta7_mean_fill = None\n",
    "\n",
    "if not (os.path.exists(X_save_scaled) and os.path.exists(y_save)):\n",
    "    if os.path.exists(X_save) and os.path.exists(y_save):\n",
    "        X_tr = pd.read_csv(X_save, index_col=0)\n",
    "        y_tr = pd.read_csv(y_save, index_col=0)\n",
    "\n",
    "        scale_params_pickle_on = open(scale_params_pickle, \"rb\")\n",
    "        tr_scaler = pickle.load(scale_params_pickle_on)\n",
    "        scale_params_pickle_on.close()\n",
    "        \n",
    "        X_train_scaled = pd.DataFrame(tr_scaler.transform(X_tr), columns=X_tr.columns)\n",
    "        X_train_scaled.to_csv(X_save_scaled)\n",
    "    else:\n",
    "        X_tr, X_train_scaled, y_tr, tr_scaler, classic_sta_lta5_mean_fill, classic_sta_lta7_mean_fill  = create_train_features(r'C:\\Users\\arvin\\dev\\lanl\\train.csv')\n",
    "        X_tr.to_csv(X_save)\n",
    "        y_tr.to_csv(y_save)\n",
    "        X_train_scaled.to_csv(X_save_scaled)\n",
    "\n",
    "        scale_params_pickle_on = open(scale_params_pickle, \"wb\")\n",
    "        pickle.dump(tr_scaler, scale_params_pickle_on)\n",
    "        scale_params_pickle_on.close()\n",
    "\n",
    "        with open(other_params_json, 'w') as fp:\n",
    "            json.dump({\"classic_sta_lta5_mean_fill\": classic_sta_lta5_mean_fill,\n",
    "                       \"classic_sta_lta7_mean_fill\": classic_sta_lta7_mean_fill}, fp)\n",
    "else:\n",
    "    X_train_scaled = pd.read_csv(X_save_scaled, index_col=0)\n",
    "    y_tr = pd.read_csv(y_save, index_col=0)"
   ]
  },
  {
   "cell_type": "markdown",
   "metadata": {},
   "source": [
    "### hyper-parameter experiments"
   ]
  },
  {
   "cell_type": "code",
   "execution_count": 4,
   "metadata": {},
   "outputs": [],
   "source": [
    "\"\"\"\n",
    "Example of Cartesian Product of Hyper-parameters for Linear Regression\n",
    "\n",
    "\"lr\": {\"fit_intercept\": [False, True], \"normalize\": [False, True]}\n",
    "\n",
    "Cartesian Product: {fit_intercept} x {normalize}\n",
    "\n",
    "Hyper-parameter choices:\n",
    "\"fit_intercept\": False, \"normalize\": False\n",
    "\"fit_intercept\": True, \"normalize\": False\n",
    "\"fit_intercept\": False, \"normalize\": True\n",
    "\"fit_intercept\": True, \"normalize\": True\n",
    "\"\"\"\n",
    "\n",
    "params={\"lr\": {\"fit_intercept\": [False, True], \"normalize\": [False, True]},\n",
    "       \"ridge\": {\"alpha\": [.000001, .00001, .0001, .001, .01, .1, 1.0, 10, 100],\n",
    "                 \"fit_intercept\": [False, True], \"normalize\": [False, True]},\n",
    "       \"lasso\": {\"alpha\": [.000001, .00001, .0001, .001, .01, .1, 1.0, 10, 100],\n",
    "                 \"fit_intercept\": [False, True], \"normalize\": [False, True],\n",
    "                 \"positive\": [False, False, False, False, False, True],\n",
    "                 \"selection\": [\"cyclic\", \"cyclic\", \"cyclic\", \"cyclic\", \"cyclic\", \"random\"]},\n",
    "       \"mtlasso\": {\"alpha\": [.000001, .00001, .0001, .001, .01, .1, 1.0, 10, 100],\n",
    "                   \"fit_intercept\": [False, True], \"normalize\": [False, True],\n",
    "                   \"selection\": [\"cyclic\", \"cyclic\", \"cyclic\", \"cyclic\", \"cyclic\", \"random\"]},\n",
    "       \"elastic\": {\"alpha\": [.000001, .00001, .0001, .001, .01, .1, 1.0, 10, 100],\n",
    "                   \"fit_intercept\": [False, True], \"normalize\": [False, True], \n",
    "                   \"positive\": [False, False, False, False, False, True],\n",
    "                   \"l1_ratio\": [.01, .99, .2, .4, .6, .8], \n",
    "                   \"selection\": [\"cyclic\", \"cyclic\", \"cyclic\", \"cyclic\", \"cyclic\", \"random\"]},\n",
    "       \"lars\": {\"fit_intercept\": [False, True], \"normalize\": [False, True],\n",
    "                \"fit_path\": [False], \"n_nonzero_coefs\": [10, 100, 500, 1000, 10000, np.inf]},\n",
    "       \"llars\": {\"alpha\": [.000001, .00001, .0001, .001, .01, .1, 1.0, 10, 100],\n",
    "                 \"fit_intercept\": [False, True], \"normalize\": [False, True],\n",
    "                \"fit_path\": [False], \"positive\": [False, False, False, False, False, True]},\n",
    "       \"omp\": {\"fit_intercept\": [False, True], \"normalize\": [False, True],\n",
    "               \"n_nonzero_coefs\": [10, 100, None, None, None]},\n",
    "       \"sgdreg\": {\"loss\": [\"squared_loss\", \"squared_loss\", \"squared_loss\", \"huber\", \"epsilon_insensitive\",\n",
    "                           \"squared_epsilon_insensitive\"],\n",
    "                  \"penalty\": [\"none\", \"l2\", \"l1\", \"elasticnet\"], \n",
    "                  \"alpha\": [.000001, .00001, .0001, .001, .01, .1, 1.0, 10, 100],\n",
    "                  \"l1_ratio\": [.01, .99, .2, .4, .6, .8], \"fit_intercept\": [False, True],\n",
    "                  \"learning_rate\": [\"constant\", \"optimal\", \"optimal\", \"optimal\", \"invscaling\", \"adaptive\"],\n",
    "                  \"eta0\": [1.0, 10.0, .1, .01, .001, .0001],\n",
    "                  \"early_stopping\": [False, False, False, False, True]},\n",
    "       \"pareg\": {\"C\": [.001, .01, .1, 1.0, 1.0, 1.0, 10.0, 100.0],\n",
    "                 \"loss\": [\"epsilon_insensitive\", \"squared_epsilon_insensitive\"],\n",
    "                 \"epsilon\": [.01, .05, .1, .1, .1, .5],\n",
    "                 \"early_stopping\": [False, False, False, False, True]},\n",
    "        # \"tsreg\": {\"fit_intercept\": [False, True]},\n",
    "        \"hreg\": {\"epsilon\": [1.1, 1.2, 1.35, 1.35, 1.35, 1.35, 1.5, 1.6, 1.8, 2.0, 2.5],\n",
    "                 \"alpha\": [.000001, .00001, .0001, .001, .01, .1, 1.0, 10, 100],\n",
    "                 \"fit_intercept\": [False, True]},\n",
    "        \"kreg\": {\"alpha\": [.000001, .00001, .0001, .001, .01, .1, 1.0, 10, 100],\n",
    "                 \"kernel\": [\"linear\", \"linear\", \"poly\", \"rbf\", \"sigmoid\"],\n",
    "                 \"gamma\": [None, None, None, None, .001, .0001, .01, .1]}}"
   ]
  },
  {
   "cell_type": "markdown",
   "metadata": {},
   "source": [
    "### PCA on feature vectors"
   ]
  },
  {
   "cell_type": "code",
   "execution_count": 5,
   "metadata": {},
   "outputs": [
    {
     "name": "stdout",
     "output_type": "stream",
     "text": [
      "X_train_scaled shape:  (4194, 138)\n",
      "4194\n",
      "PCA explained variance ratio (first 50 components): [4.67527491e-01 1.31896039e-01 8.03803322e-02 6.13857166e-02\n",
      " 2.83457425e-02 2.18411289e-02 1.89761955e-02 1.74868597e-02\n",
      " 1.61917596e-02 1.32777708e-02 1.24577647e-02 1.01964819e-02\n",
      " 8.92283770e-03 7.74412458e-03 7.51586380e-03 7.06741373e-03\n",
      " 6.64359994e-03 6.21740502e-03 5.73372613e-03 5.72723554e-03\n",
      " 5.08934278e-03 4.68587039e-03 4.52714989e-03 4.22541710e-03\n",
      " 3.97234346e-03 3.25515367e-03 3.07030383e-03 2.87927045e-03\n",
      " 2.57634585e-03 2.40247232e-03 2.30163654e-03 2.21519737e-03\n",
      " 2.04076390e-03 1.88802447e-03 1.68950822e-03 1.62597775e-03\n",
      " 1.53856217e-03 1.28517069e-03 1.12919067e-03 1.09043990e-03\n",
      " 9.21865509e-04 9.08570581e-04 8.58039676e-04 8.15359349e-04\n",
      " 7.10127140e-04 6.64709283e-04 5.57369136e-04 5.42748514e-04\n",
      " 4.54130642e-04 4.06653623e-04]\n",
      "cumulative variance PCA\n",
      "[46.8 60.  68.  74.1 76.9 79.1 81.  82.7 84.3 85.6 86.8 87.8 88.7 89.5\n",
      " 90.3 91.  91.7 92.3 92.9 93.5 94.  94.5 95.  95.4 95.8 96.1 96.4 96.7\n",
      " 97.  97.2 97.4 97.6 97.8 98.  98.2 98.4 98.6 98.7 98.8 98.9 99.  99.1\n",
      " 99.2 99.3 99.4 99.5 99.6 99.7 99.7 99.7]\n",
      "cumulative variance PCA - 40\n",
      "[46.8 60.  68.  74.1 76.9 79.1 81.  82.7 84.3 85.6 86.8 87.8 88.7 89.5\n",
      " 90.3 91.  91.7 92.3 92.9 93.5 94.  94.5 95.  95.4 95.8 96.1 96.4 96.7\n",
      " 97.  97.2 97.4 97.6 97.8 98.  98.2 98.4 98.6 98.7 98.8 98.9]\n",
      "\n",
      "X_train_scaled.shape:  (4194, 138)\n",
      "(PCA) X_r.shape:  (4194, 40)\n"
     ]
    }
   ],
   "source": [
    "print(\"X_train_scaled shape: \", X_train_scaled.shape)\n",
    "\n",
    "#need to use numpy array for PCA\n",
    "Ymat = y_tr.as_matrix()\n",
    "Xmat = X_train_scaled.as_matrix()\n",
    "\n",
    "from sklearn.decomposition import PCA\n",
    "\n",
    "pca = PCA(n_components=50)\n",
    "X_r = pca.fit(Xmat).transform(Xmat)\n",
    "#print(\"X_r\", X_r[1:5])\n",
    "print(len(X_r))\n",
    "\n",
    "print('PCA explained variance ratio (first 50 components): %s'\n",
    "      % str(pca.explained_variance_ratio_))\n",
    "\n",
    "print(\"cumulative variance PCA\")\n",
    "variance = pca.explained_variance_ratio_ #calculate variance ratios\n",
    "\n",
    "var=np.cumsum(np.round(pca.explained_variance_ratio_, decimals=3)*100)\n",
    "print(var) #cumulative sum of variance explained with [n] features\n",
    "\n",
    "\n",
    "pca = PCA(n_components=40)\n",
    "X_r = pca.fit(Xmat).transform(Xmat)\n",
    "print(\"cumulative variance PCA - 40\")\n",
    "variance = pca.explained_variance_ratio_ #calculate variance ratios\n",
    "var=np.cumsum(np.round(pca.explained_variance_ratio_, decimals=3)*100)\n",
    "print(var) #cumulative sum of variance explained with [n] features\n",
    "\n",
    "print(\"\\nX_train_scaled.shape: \",X_train_scaled.shape)\n",
    "print(\"(PCA) X_r.shape: \",X_r.shape)"
   ]
  },
  {
   "cell_type": "markdown",
   "metadata": {},
   "source": [
    "#### first 40 principal components explains 98.9% of variance"
   ]
  },
  {
   "cell_type": "markdown",
   "metadata": {},
   "source": [
    "### PCA on acoustic"
   ]
  },
  {
   "cell_type": "code",
   "execution_count": null,
   "metadata": {},
   "outputs": [],
   "source": [
    "train = pd.read_csv('train.csv', dtype={'acoustic_data': np.int16, 'time_to_failure': np.float64})\n",
    "### JCK: Loading train.csv to my Virtual machine gave me  \"No space left on device\" errors"
   ]
  },
  {
   "cell_type": "code",
   "execution_count": null,
   "metadata": {},
   "outputs": [],
   "source": [
    "print(train.head())"
   ]
  },
  {
   "cell_type": "code",
   "execution_count": null,
   "metadata": {},
   "outputs": [],
   "source": [
    "#need to use numpy array for PCA\n",
    "Ymat = y_tr.as_matrix()\n",
    "\n",
    "from sklearn.decomposition import PCA\n",
    "\n",
    "pca = PCA(n_components=50)\n",
    "X_r = pca.fit(Xmat).transform(Xmat)\n",
    "\n",
    "print('PCA explained variance ratio (first 50 components): %s'\n",
    "      % str(pca.explained_variance_ratio_))\n",
    "\n",
    "print(\"cumulative variance PCA\")\n",
    "variance = pca.explained_variance_ratio_ #calculate variance ratios\n",
    "\n",
    "var=np.cumsum(np.round(pca.explained_variance_ratio_, decimals=3)*100)\n",
    "print(var) #cumulative sum of variance explained with [n] features"
   ]
  },
  {
   "cell_type": "markdown",
   "metadata": {},
   "source": [
    "### K-Means"
   ]
  },
  {
   "cell_type": "code",
   "execution_count": null,
   "metadata": {},
   "outputs": [],
   "source": [
    "### using MiniBatchKMeans is faster and uses less memory than regular KMeans\n",
    "### explanation at: https://algorithmicthoughts.wordpress.com/2013/07/26/machine-learning-mini-batch-k-means/\n",
    "\n",
    "from sklearn.cluster import MiniBatchKMeans\n",
    "kmeans = MiniBatchKMeans(n_clusters=K, batch_size=100)\n",
    "kmeans.fit(X_scaled)\n",
    "labels = kmeans.predict(X_scaled)\n",
    "new_clusters = kmeans.cluster_centers_[kmeans.predict(X_scaled)]"
   ]
  },
  {
   "cell_type": "markdown",
   "metadata": {},
   "source": [
    "### SSA"
   ]
  },
  {
   "cell_type": "code",
   "execution_count": null,
   "metadata": {},
   "outputs": [],
   "source": [
    "#SSA decomposes time-series into trend + periodicity + noise\n",
    "#SSA can be used instead of PCA for time-series data\n",
    "#explanation at https://www.kaggle.com/jdarcy/introducing-ssa-for-time-series-decomposition"
   ]
  },
  {
   "cell_type": "markdown",
   "metadata": {},
   "source": [
    "### Scaling"
   ]
  },
  {
   "cell_type": "code",
   "execution_count": null,
   "metadata": {},
   "outputs": [],
   "source": [
    "#StandardScaler normalizes the features so that each feature has mean=0, std=1\n",
    "from sklearn.preprocessing import StandardScaler\n",
    "sc = StandardScaler()\n",
    "X_train_scaled = sc.fit_transform(X_train_scaled)\n",
    "y_tr = sc.fit_transform(y_tr)\n",
    "\n",
    "\n",
    "from scipy.stats import boxcox\n",
    "#can also normalize the data with the Box-Cox transformation\n",
    "# transform training set\n",
    "X_train_scaled = stats.boxcox(X_train_scaled)"
   ]
  },
  {
   "cell_type": "markdown",
   "metadata": {},
   "source": [
    "### Overlapping segments"
   ]
  },
  {
   "cell_type": "code",
   "execution_count": null,
   "metadata": {},
   "outputs": [],
   "source": [
    "#obtained from https://www.kaggle.com/alinealmeida/basic-feature-benchmark-with-quantiles-augmenting\n",
    "train = pd.read_csv('train.csv', dtype={'acoustic_data': np.int16, 'time_to_failure': np.float64})\n",
    "\n",
    "print(train.head())\n",
    "rows=150000\n",
    "#stride of 75000\n",
    "shift_step = int(np.floor(rows / 2))\n",
    "segments = int(np.floor(train.shape[0] / rows))\n",
    "segments_augmented = 2*segments - 1\n",
    "\n",
    "X_train = pd.DataFrame(index=range(segments_augmented), dtype=np.float64,\n",
    "                       columns=['ave', 'std', 'max', 'min','q95','q99', 'q05','q01'])\n",
    "y_train = pd.DataFrame(index=range(segments_augmented), dtype=np.float64,\n",
    "                       columns=['time_to_failure'])\n",
    "\n",
    "for segment in tqdm(range(segments)):\n",
    "    for do_shift in [False,True]:        \n",
    "        if(do_shift):\n",
    "            shift = shift_step\n",
    "            idx = segments + segment            \n",
    "            if(segment==segments-1): #last segment would be incomplete for the shifted version\n",
    "                continue\n",
    "        else:\n",
    "            shift = 0\n",
    "            idx = segment\n",
    "        \n",
    "        seg = train.iloc[segment*rows+shift:segment*rows+shift+rows]\n",
    "\n",
    "        x = seg['acoustic_data'].values\n",
    "        y = seg['time_to_failure'].values[-1]\n",
    "\n",
    "        y_train.loc[idx, 'time_to_failure'] = y\n",
    "\n",
    "        X_train.loc[idx, 'ave'] = x.mean()\n",
    "        X_train.loc[idx, 'std'] = x.std()\n",
    "        X_train.loc[idx, 'max'] = x.max()\n",
    "        X_train.loc[idx, 'min'] = x.min()\n",
    "        X_train.loc[idx, 'q95'] = np.quantile(x,0.95)\n",
    "        X_train.loc[idx, 'q99'] = np.quantile(x,0.99)\n",
    "        X_train.loc[idx, 'q05'] = np.quantile(x,0.05)\n",
    "        X_train.loc[idx, 'q01'] = np.quantile(x,0.01)"
   ]
  },
  {
   "cell_type": "markdown",
   "metadata": {},
   "source": [
    "### Run Experiment"
   ]
  },
  {
   "cell_type": "code",
   "execution_count": null,
   "metadata": {},
   "outputs": [],
   "source": [
    "num_searches=20\n",
    "n_fold=10\n",
    "save_results= \"exp.csv\""
   ]
  },
  {
   "cell_type": "code",
   "execution_count": 11,
   "metadata": {},
   "outputs": [
    {
     "name": "stdout",
     "output_type": "stream",
     "text": [
      "lr\n",
      "ridge\n",
      "lasso\n",
      "mtlasso\n",
      "elastic\n",
      "lars\n",
      "llars\n",
      "omp\n",
      "sgdreg\n",
      "pareg\n",
      "hreg\n",
      "kreg\n"
     ]
    }
   ],
   "source": [
    "for alg in params.keys():\n",
    "    print(alg)"
   ]
  },
  {
   "cell_type": "code",
   "execution_count": null,
   "metadata": {},
   "outputs": [],
   "source": [
    "for alg in params.keys():\n",
    "    print(alg)\n",
    "    score_df = run_experiment(X=X_train_scaled, Y=y_tr, n_fold=n_fold, alg=alg, alg_params=params[alg], search_type=\"random\", num_searches=num_searches, save_results=save_results)"
   ]
  },
  {
   "cell_type": "markdown",
   "metadata": {},
   "source": [
    "### Display models ranked by CV scores"
   ]
  },
  {
   "cell_type": "code",
   "execution_count": null,
   "metadata": {},
   "outputs": [],
   "source": [
    "score_df = score_df.sort_values(by=\"score\", axis=0)\n",
    "display(score_df)"
   ]
  },
  {
   "cell_type": "markdown",
   "metadata": {},
   "source": [
    "### Load results from CSV File and re-produce models ranked by CV scores"
   ]
  },
  {
   "cell_type": "code",
   "execution_count": null,
   "metadata": {},
   "outputs": [],
   "source": [
    "score_df = pd.read_csv(save_results)\n",
    "score_df = score_df.sort_values(by=\"score\", axis=0)"
   ]
  },
  {
   "cell_type": "code",
   "execution_count": null,
   "metadata": {},
   "outputs": [],
   "source": [
    "display(score_df)"
   ]
  },
  {
   "cell_type": "markdown",
   "metadata": {},
   "source": [
    "### Load best model from CSV File"
   ]
  },
  {
   "cell_type": "code",
   "execution_count": null,
   "metadata": {},
   "outputs": [],
   "source": [
    "# retrieve top scoring row\n",
    "best = score_df.iloc[0]\n",
    "display(best)\n",
    "\n",
    "# retrieve model parameters from pandas row\n",
    "alg = best[\"alg\"]\n",
    "params_json = best[\"params_json\"]\n",
    "print(\"alg: {}\".format(alg))\n",
    "print(\"params_json: {}\".format(params_json))\n",
    "\n",
    "# retrieve relevant values\n",
    "alg_cls = alg_map[alg]\n",
    "params = json.loads(params_json)\n",
    "\n",
    "# initialize model\n",
    "model = alg_cls(**params)\n",
    "\n",
    "# train algorithm\n",
    "train_model(X=X_train_scaled, Y=y_tr, n_fold=n_fold, model=model)"
   ]
  }
 ],
 "metadata": {
  "kernelspec": {
   "display_name": "Python 3",
   "language": "python",
   "name": "python3"
  },
  "language_info": {
   "codemirror_mode": {
    "name": "ipython",
    "version": 3
   },
   "file_extension": ".py",
   "mimetype": "text/x-python",
   "name": "python",
   "nbconvert_exporter": "python",
   "pygments_lexer": "ipython3",
   "version": "3.6.7"
  }
 },
 "nbformat": 4,
 "nbformat_minor": 2
}
